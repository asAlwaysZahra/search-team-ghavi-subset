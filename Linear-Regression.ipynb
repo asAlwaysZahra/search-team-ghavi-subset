{
 "cells": [
  {
   "cell_type": "markdown",
   "id": "db7be995",
   "metadata": {},
   "source": [
    "# Libraries"
   ]
  },
  {
   "cell_type": "code",
   "execution_count": 1,
   "id": "4be5c4ba",
   "metadata": {},
   "outputs": [],
   "source": [
    "import pandas as pd\n",
    "import numpy as np\n",
    "from sklearn.preprocessing import LabelEncoder\n",
    "import seaborn as sns\n",
    "import matplotlib.pyplot as plt\n",
    "from sklearn.model_selection import train_test_split\n",
    "from sklearn import metrics\n",
    "import time"
   ]
  },
  {
   "cell_type": "markdown",
   "id": "a490c887",
   "metadata": {},
   "source": [
    "# Read and Inspect Data"
   ]
  },
  {
   "cell_type": "code",
   "execution_count": 2,
   "id": "b533ac82",
   "metadata": {},
   "outputs": [
    {
     "data": {
      "text/html": [
       "<div>\n",
       "<style scoped>\n",
       "    .dataframe tbody tr th:only-of-type {\n",
       "        vertical-align: middle;\n",
       "    }\n",
       "\n",
       "    .dataframe tbody tr th {\n",
       "        vertical-align: top;\n",
       "    }\n",
       "\n",
       "    .dataframe thead th {\n",
       "        text-align: right;\n",
       "    }\n",
       "</style>\n",
       "<table border=\"1\" class=\"dataframe\">\n",
       "  <thead>\n",
       "    <tr style=\"text-align: right;\">\n",
       "      <th></th>\n",
       "      <th>departure_time</th>\n",
       "      <th>stops</th>\n",
       "      <th>arrival_time</th>\n",
       "      <th>class</th>\n",
       "      <th>duration</th>\n",
       "      <th>days_left</th>\n",
       "      <th>price</th>\n",
       "    </tr>\n",
       "  </thead>\n",
       "  <tbody>\n",
       "    <tr>\n",
       "      <th>0</th>\n",
       "      <td>Evening</td>\n",
       "      <td>zero</td>\n",
       "      <td>Night</td>\n",
       "      <td>Economy</td>\n",
       "      <td>2.17</td>\n",
       "      <td>1</td>\n",
       "      <td>5953</td>\n",
       "    </tr>\n",
       "    <tr>\n",
       "      <th>1</th>\n",
       "      <td>Early_Morning</td>\n",
       "      <td>zero</td>\n",
       "      <td>Morning</td>\n",
       "      <td>Economy</td>\n",
       "      <td>2.33</td>\n",
       "      <td>1</td>\n",
       "      <td>5953</td>\n",
       "    </tr>\n",
       "    <tr>\n",
       "      <th>2</th>\n",
       "      <td>Early_Morning</td>\n",
       "      <td>zero</td>\n",
       "      <td>Early_Morning</td>\n",
       "      <td>Economy</td>\n",
       "      <td>2.17</td>\n",
       "      <td>1</td>\n",
       "      <td>5956</td>\n",
       "    </tr>\n",
       "    <tr>\n",
       "      <th>3</th>\n",
       "      <td>Morning</td>\n",
       "      <td>zero</td>\n",
       "      <td>Afternoon</td>\n",
       "      <td>Economy</td>\n",
       "      <td>2.25</td>\n",
       "      <td>1</td>\n",
       "      <td>5955</td>\n",
       "    </tr>\n",
       "    <tr>\n",
       "      <th>4</th>\n",
       "      <td>Morning</td>\n",
       "      <td>zero</td>\n",
       "      <td>Morning</td>\n",
       "      <td>Economy</td>\n",
       "      <td>2.33</td>\n",
       "      <td>1</td>\n",
       "      <td>5955</td>\n",
       "    </tr>\n",
       "    <tr>\n",
       "      <th>...</th>\n",
       "      <td>...</td>\n",
       "      <td>...</td>\n",
       "      <td>...</td>\n",
       "      <td>...</td>\n",
       "      <td>...</td>\n",
       "      <td>...</td>\n",
       "      <td>...</td>\n",
       "    </tr>\n",
       "    <tr>\n",
       "      <th>270133</th>\n",
       "      <td>Early_Morning</td>\n",
       "      <td>one</td>\n",
       "      <td>Night</td>\n",
       "      <td>Business</td>\n",
       "      <td>17.25</td>\n",
       "      <td>49</td>\n",
       "      <td>68739</td>\n",
       "    </tr>\n",
       "    <tr>\n",
       "      <th>270134</th>\n",
       "      <td>Morning</td>\n",
       "      <td>one</td>\n",
       "      <td>Evening</td>\n",
       "      <td>Business</td>\n",
       "      <td>10.08</td>\n",
       "      <td>49</td>\n",
       "      <td>69265</td>\n",
       "    </tr>\n",
       "    <tr>\n",
       "      <th>270135</th>\n",
       "      <td>Afternoon</td>\n",
       "      <td>one</td>\n",
       "      <td>Night</td>\n",
       "      <td>Business</td>\n",
       "      <td>10.42</td>\n",
       "      <td>49</td>\n",
       "      <td>77105</td>\n",
       "    </tr>\n",
       "    <tr>\n",
       "      <th>270136</th>\n",
       "      <td>Early_Morning</td>\n",
       "      <td>one</td>\n",
       "      <td>Evening</td>\n",
       "      <td>Business</td>\n",
       "      <td>10.00</td>\n",
       "      <td>49</td>\n",
       "      <td>81585</td>\n",
       "    </tr>\n",
       "    <tr>\n",
       "      <th>270137</th>\n",
       "      <td>Morning</td>\n",
       "      <td>one</td>\n",
       "      <td>Evening</td>\n",
       "      <td>Business</td>\n",
       "      <td>10.08</td>\n",
       "      <td>49</td>\n",
       "      <td>81585</td>\n",
       "    </tr>\n",
       "  </tbody>\n",
       "</table>\n",
       "<p>270138 rows × 7 columns</p>\n",
       "</div>"
      ],
      "text/plain": [
       "       departure_time stops   arrival_time     class  duration  days_left  \\\n",
       "0             Evening  zero          Night   Economy      2.17          1   \n",
       "1       Early_Morning  zero        Morning   Economy      2.33          1   \n",
       "2       Early_Morning  zero  Early_Morning   Economy      2.17          1   \n",
       "3             Morning  zero      Afternoon   Economy      2.25          1   \n",
       "4             Morning  zero        Morning   Economy      2.33          1   \n",
       "...               ...   ...            ...       ...       ...        ...   \n",
       "270133  Early_Morning   one          Night  Business     17.25         49   \n",
       "270134        Morning   one        Evening  Business     10.08         49   \n",
       "270135      Afternoon   one          Night  Business     10.42         49   \n",
       "270136  Early_Morning   one        Evening  Business     10.00         49   \n",
       "270137        Morning   one        Evening  Business     10.08         49   \n",
       "\n",
       "        price  \n",
       "0        5953  \n",
       "1        5953  \n",
       "2        5956  \n",
       "3        5955  \n",
       "4        5955  \n",
       "...       ...  \n",
       "270133  68739  \n",
       "270134  69265  \n",
       "270135  77105  \n",
       "270136  81585  \n",
       "270137  81585  \n",
       "\n",
       "[270138 rows x 7 columns]"
      ]
     },
     "execution_count": 2,
     "metadata": {},
     "output_type": "execute_result"
    }
   ],
   "source": [
    "df = pd.read_csv('Flight_Price_Dataset_Q2.csv')\n",
    "df"
   ]
  },
  {
   "cell_type": "code",
   "execution_count": 3,
   "id": "cb9a3010",
   "metadata": {},
   "outputs": [
    {
     "data": {
      "text/plain": [
       "stops\n",
       "one            225767\n",
       "zero            32466\n",
       "two_or_more     11905\n",
       "Name: count, dtype: int64"
      ]
     },
     "execution_count": 3,
     "metadata": {},
     "output_type": "execute_result"
    }
   ],
   "source": [
    "df['stops'].value_counts()"
   ]
  },
  {
   "cell_type": "code",
   "execution_count": 4,
   "id": "d52c90dd",
   "metadata": {},
   "outputs": [
    {
     "data": {
      "text/plain": [
       "departure_time\n",
       "Morning          64036\n",
       "Early_Morning    60112\n",
       "Evening          58586\n",
       "Night            43267\n",
       "Afternoon        42951\n",
       "Late_Night        1186\n",
       "Name: count, dtype: int64"
      ]
     },
     "execution_count": 4,
     "metadata": {},
     "output_type": "execute_result"
    }
   ],
   "source": [
    "df['departure_time'].value_counts()"
   ]
  },
  {
   "cell_type": "code",
   "execution_count": 5,
   "id": "eecef052",
   "metadata": {},
   "outputs": [
    {
     "data": {
      "text/plain": [
       "arrival_time\n",
       "Night            82413\n",
       "Evening          70494\n",
       "Morning          56438\n",
       "Afternoon        34274\n",
       "Early_Morning    13889\n",
       "Late_Night       12630\n",
       "Name: count, dtype: int64"
      ]
     },
     "execution_count": 5,
     "metadata": {},
     "output_type": "execute_result"
    }
   ],
   "source": [
    "df['arrival_time'].value_counts()"
   ]
  },
  {
   "cell_type": "code",
   "execution_count": 6,
   "id": "17600b6d",
   "metadata": {},
   "outputs": [
    {
     "data": {
      "text/plain": [
       "class\n",
       "Economy     185998\n",
       "Business     84140\n",
       "Name: count, dtype: int64"
      ]
     },
     "execution_count": 6,
     "metadata": {},
     "output_type": "execute_result"
    }
   ],
   "source": [
    "df['class'].value_counts()"
   ]
  },
  {
   "cell_type": "markdown",
   "id": "6a4944f4",
   "metadata": {},
   "source": [
    "# One-Hot Encoding"
   ]
  },
  {
   "cell_type": "markdown",
   "id": "c1ca7f1b",
   "metadata": {},
   "source": [
    "### Class"
   ]
  },
  {
   "cell_type": "code",
   "execution_count": 7,
   "id": "d5b70133",
   "metadata": {
    "scrolled": true
   },
   "outputs": [
    {
     "data": {
      "text/html": [
       "<div>\n",
       "<style scoped>\n",
       "    .dataframe tbody tr th:only-of-type {\n",
       "        vertical-align: middle;\n",
       "    }\n",
       "\n",
       "    .dataframe tbody tr th {\n",
       "        vertical-align: top;\n",
       "    }\n",
       "\n",
       "    .dataframe thead th {\n",
       "        text-align: right;\n",
       "    }\n",
       "</style>\n",
       "<table border=\"1\" class=\"dataframe\">\n",
       "  <thead>\n",
       "    <tr style=\"text-align: right;\">\n",
       "      <th></th>\n",
       "      <th>departure_time</th>\n",
       "      <th>stops</th>\n",
       "      <th>arrival_time</th>\n",
       "      <th>duration</th>\n",
       "      <th>days_left</th>\n",
       "      <th>price</th>\n",
       "      <th>class_Economy</th>\n",
       "    </tr>\n",
       "  </thead>\n",
       "  <tbody>\n",
       "    <tr>\n",
       "      <th>0</th>\n",
       "      <td>Evening</td>\n",
       "      <td>zero</td>\n",
       "      <td>Night</td>\n",
       "      <td>2.17</td>\n",
       "      <td>1</td>\n",
       "      <td>5953</td>\n",
       "      <td>True</td>\n",
       "    </tr>\n",
       "    <tr>\n",
       "      <th>1</th>\n",
       "      <td>Early_Morning</td>\n",
       "      <td>zero</td>\n",
       "      <td>Morning</td>\n",
       "      <td>2.33</td>\n",
       "      <td>1</td>\n",
       "      <td>5953</td>\n",
       "      <td>True</td>\n",
       "    </tr>\n",
       "    <tr>\n",
       "      <th>2</th>\n",
       "      <td>Early_Morning</td>\n",
       "      <td>zero</td>\n",
       "      <td>Early_Morning</td>\n",
       "      <td>2.17</td>\n",
       "      <td>1</td>\n",
       "      <td>5956</td>\n",
       "      <td>True</td>\n",
       "    </tr>\n",
       "    <tr>\n",
       "      <th>3</th>\n",
       "      <td>Morning</td>\n",
       "      <td>zero</td>\n",
       "      <td>Afternoon</td>\n",
       "      <td>2.25</td>\n",
       "      <td>1</td>\n",
       "      <td>5955</td>\n",
       "      <td>True</td>\n",
       "    </tr>\n",
       "    <tr>\n",
       "      <th>4</th>\n",
       "      <td>Morning</td>\n",
       "      <td>zero</td>\n",
       "      <td>Morning</td>\n",
       "      <td>2.33</td>\n",
       "      <td>1</td>\n",
       "      <td>5955</td>\n",
       "      <td>True</td>\n",
       "    </tr>\n",
       "    <tr>\n",
       "      <th>...</th>\n",
       "      <td>...</td>\n",
       "      <td>...</td>\n",
       "      <td>...</td>\n",
       "      <td>...</td>\n",
       "      <td>...</td>\n",
       "      <td>...</td>\n",
       "      <td>...</td>\n",
       "    </tr>\n",
       "    <tr>\n",
       "      <th>270133</th>\n",
       "      <td>Early_Morning</td>\n",
       "      <td>one</td>\n",
       "      <td>Night</td>\n",
       "      <td>17.25</td>\n",
       "      <td>49</td>\n",
       "      <td>68739</td>\n",
       "      <td>False</td>\n",
       "    </tr>\n",
       "    <tr>\n",
       "      <th>270134</th>\n",
       "      <td>Morning</td>\n",
       "      <td>one</td>\n",
       "      <td>Evening</td>\n",
       "      <td>10.08</td>\n",
       "      <td>49</td>\n",
       "      <td>69265</td>\n",
       "      <td>False</td>\n",
       "    </tr>\n",
       "    <tr>\n",
       "      <th>270135</th>\n",
       "      <td>Afternoon</td>\n",
       "      <td>one</td>\n",
       "      <td>Night</td>\n",
       "      <td>10.42</td>\n",
       "      <td>49</td>\n",
       "      <td>77105</td>\n",
       "      <td>False</td>\n",
       "    </tr>\n",
       "    <tr>\n",
       "      <th>270136</th>\n",
       "      <td>Early_Morning</td>\n",
       "      <td>one</td>\n",
       "      <td>Evening</td>\n",
       "      <td>10.00</td>\n",
       "      <td>49</td>\n",
       "      <td>81585</td>\n",
       "      <td>False</td>\n",
       "    </tr>\n",
       "    <tr>\n",
       "      <th>270137</th>\n",
       "      <td>Morning</td>\n",
       "      <td>one</td>\n",
       "      <td>Evening</td>\n",
       "      <td>10.08</td>\n",
       "      <td>49</td>\n",
       "      <td>81585</td>\n",
       "      <td>False</td>\n",
       "    </tr>\n",
       "  </tbody>\n",
       "</table>\n",
       "<p>270138 rows × 7 columns</p>\n",
       "</div>"
      ],
      "text/plain": [
       "       departure_time stops   arrival_time  duration  days_left  price  \\\n",
       "0             Evening  zero          Night      2.17          1   5953   \n",
       "1       Early_Morning  zero        Morning      2.33          1   5953   \n",
       "2       Early_Morning  zero  Early_Morning      2.17          1   5956   \n",
       "3             Morning  zero      Afternoon      2.25          1   5955   \n",
       "4             Morning  zero        Morning      2.33          1   5955   \n",
       "...               ...   ...            ...       ...        ...    ...   \n",
       "270133  Early_Morning   one          Night     17.25         49  68739   \n",
       "270134        Morning   one        Evening     10.08         49  69265   \n",
       "270135      Afternoon   one          Night     10.42         49  77105   \n",
       "270136  Early_Morning   one        Evening     10.00         49  81585   \n",
       "270137        Morning   one        Evening     10.08         49  81585   \n",
       "\n",
       "        class_Economy  \n",
       "0                True  \n",
       "1                True  \n",
       "2                True  \n",
       "3                True  \n",
       "4                True  \n",
       "...               ...  \n",
       "270133          False  \n",
       "270134          False  \n",
       "270135          False  \n",
       "270136          False  \n",
       "270137          False  \n",
       "\n",
       "[270138 rows x 7 columns]"
      ]
     },
     "execution_count": 7,
     "metadata": {},
     "output_type": "execute_result"
    }
   ],
   "source": [
    "df = pd.get_dummies(df, columns=['class'], drop_first=True)\n",
    "df"
   ]
  },
  {
   "cell_type": "markdown",
   "id": "16b58850",
   "metadata": {},
   "source": [
    "# Label Encoding"
   ]
  },
  {
   "cell_type": "markdown",
   "id": "53f6b1a5",
   "metadata": {},
   "source": [
    "### Arrival_time and Departure_time"
   ]
  },
  {
   "cell_type": "code",
   "execution_count": 8,
   "id": "d5fbdaff",
   "metadata": {
    "scrolled": true
   },
   "outputs": [
    {
     "data": {
      "text/html": [
       "<div>\n",
       "<style scoped>\n",
       "    .dataframe tbody tr th:only-of-type {\n",
       "        vertical-align: middle;\n",
       "    }\n",
       "\n",
       "    .dataframe tbody tr th {\n",
       "        vertical-align: top;\n",
       "    }\n",
       "\n",
       "    .dataframe thead th {\n",
       "        text-align: right;\n",
       "    }\n",
       "</style>\n",
       "<table border=\"1\" class=\"dataframe\">\n",
       "  <thead>\n",
       "    <tr style=\"text-align: right;\">\n",
       "      <th></th>\n",
       "      <th>stops</th>\n",
       "      <th>duration</th>\n",
       "      <th>days_left</th>\n",
       "      <th>price</th>\n",
       "      <th>class_Economy</th>\n",
       "      <th>arrival_time_encode</th>\n",
       "      <th>departure_time_encode</th>\n",
       "    </tr>\n",
       "  </thead>\n",
       "  <tbody>\n",
       "    <tr>\n",
       "      <th>0</th>\n",
       "      <td>zero</td>\n",
       "      <td>2.17</td>\n",
       "      <td>1</td>\n",
       "      <td>5953</td>\n",
       "      <td>True</td>\n",
       "      <td>4</td>\n",
       "      <td>3</td>\n",
       "    </tr>\n",
       "    <tr>\n",
       "      <th>1</th>\n",
       "      <td>zero</td>\n",
       "      <td>2.33</td>\n",
       "      <td>1</td>\n",
       "      <td>5953</td>\n",
       "      <td>True</td>\n",
       "      <td>1</td>\n",
       "      <td>0</td>\n",
       "    </tr>\n",
       "    <tr>\n",
       "      <th>2</th>\n",
       "      <td>zero</td>\n",
       "      <td>2.17</td>\n",
       "      <td>1</td>\n",
       "      <td>5956</td>\n",
       "      <td>True</td>\n",
       "      <td>0</td>\n",
       "      <td>0</td>\n",
       "    </tr>\n",
       "    <tr>\n",
       "      <th>3</th>\n",
       "      <td>zero</td>\n",
       "      <td>2.25</td>\n",
       "      <td>1</td>\n",
       "      <td>5955</td>\n",
       "      <td>True</td>\n",
       "      <td>2</td>\n",
       "      <td>1</td>\n",
       "    </tr>\n",
       "    <tr>\n",
       "      <th>4</th>\n",
       "      <td>zero</td>\n",
       "      <td>2.33</td>\n",
       "      <td>1</td>\n",
       "      <td>5955</td>\n",
       "      <td>True</td>\n",
       "      <td>1</td>\n",
       "      <td>1</td>\n",
       "    </tr>\n",
       "    <tr>\n",
       "      <th>...</th>\n",
       "      <td>...</td>\n",
       "      <td>...</td>\n",
       "      <td>...</td>\n",
       "      <td>...</td>\n",
       "      <td>...</td>\n",
       "      <td>...</td>\n",
       "      <td>...</td>\n",
       "    </tr>\n",
       "    <tr>\n",
       "      <th>270133</th>\n",
       "      <td>one</td>\n",
       "      <td>17.25</td>\n",
       "      <td>49</td>\n",
       "      <td>68739</td>\n",
       "      <td>False</td>\n",
       "      <td>4</td>\n",
       "      <td>0</td>\n",
       "    </tr>\n",
       "    <tr>\n",
       "      <th>270134</th>\n",
       "      <td>one</td>\n",
       "      <td>10.08</td>\n",
       "      <td>49</td>\n",
       "      <td>69265</td>\n",
       "      <td>False</td>\n",
       "      <td>3</td>\n",
       "      <td>1</td>\n",
       "    </tr>\n",
       "    <tr>\n",
       "      <th>270135</th>\n",
       "      <td>one</td>\n",
       "      <td>10.42</td>\n",
       "      <td>49</td>\n",
       "      <td>77105</td>\n",
       "      <td>False</td>\n",
       "      <td>4</td>\n",
       "      <td>2</td>\n",
       "    </tr>\n",
       "    <tr>\n",
       "      <th>270136</th>\n",
       "      <td>one</td>\n",
       "      <td>10.00</td>\n",
       "      <td>49</td>\n",
       "      <td>81585</td>\n",
       "      <td>False</td>\n",
       "      <td>3</td>\n",
       "      <td>0</td>\n",
       "    </tr>\n",
       "    <tr>\n",
       "      <th>270137</th>\n",
       "      <td>one</td>\n",
       "      <td>10.08</td>\n",
       "      <td>49</td>\n",
       "      <td>81585</td>\n",
       "      <td>False</td>\n",
       "      <td>3</td>\n",
       "      <td>1</td>\n",
       "    </tr>\n",
       "  </tbody>\n",
       "</table>\n",
       "<p>270138 rows × 7 columns</p>\n",
       "</div>"
      ],
      "text/plain": [
       "       stops  duration  days_left  price  class_Economy  arrival_time_encode  \\\n",
       "0       zero      2.17          1   5953           True                    4   \n",
       "1       zero      2.33          1   5953           True                    1   \n",
       "2       zero      2.17          1   5956           True                    0   \n",
       "3       zero      2.25          1   5955           True                    2   \n",
       "4       zero      2.33          1   5955           True                    1   \n",
       "...      ...       ...        ...    ...            ...                  ...   \n",
       "270133   one     17.25         49  68739          False                    4   \n",
       "270134   one     10.08         49  69265          False                    3   \n",
       "270135   one     10.42         49  77105          False                    4   \n",
       "270136   one     10.00         49  81585          False                    3   \n",
       "270137   one     10.08         49  81585          False                    3   \n",
       "\n",
       "        departure_time_encode  \n",
       "0                           3  \n",
       "1                           0  \n",
       "2                           0  \n",
       "3                           1  \n",
       "4                           1  \n",
       "...                       ...  \n",
       "270133                      0  \n",
       "270134                      1  \n",
       "270135                      2  \n",
       "270136                      0  \n",
       "270137                      1  \n",
       "\n",
       "[270138 rows x 7 columns]"
      ]
     },
     "execution_count": 8,
     "metadata": {},
     "output_type": "execute_result"
    }
   ],
   "source": [
    "mapping = {'Early_Morning': 0,\n",
    "           'Morning' : 1,\n",
    "           'Afternoon' : 2,\n",
    "           'Evening' : 3,\n",
    "           'Night': 4,\n",
    "           'Late_Night': 5}\n",
    "\n",
    "df['arrival_time_encode'] = df['arrival_time'].map(mapping)\n",
    "df['departure_time_encode'] = df['departure_time'].map(mapping)\n",
    "df = df.drop('arrival_time', axis = 1)\n",
    "df = df.drop('departure_time', axis = 1)\n",
    "\n",
    "df"
   ]
  },
  {
   "cell_type": "markdown",
   "id": "e959dc2f",
   "metadata": {},
   "source": [
    "### Stops"
   ]
  },
  {
   "cell_type": "code",
   "execution_count": 9,
   "id": "779bebc7",
   "metadata": {},
   "outputs": [
    {
     "data": {
      "text/html": [
       "<div>\n",
       "<style scoped>\n",
       "    .dataframe tbody tr th:only-of-type {\n",
       "        vertical-align: middle;\n",
       "    }\n",
       "\n",
       "    .dataframe tbody tr th {\n",
       "        vertical-align: top;\n",
       "    }\n",
       "\n",
       "    .dataframe thead th {\n",
       "        text-align: right;\n",
       "    }\n",
       "</style>\n",
       "<table border=\"1\" class=\"dataframe\">\n",
       "  <thead>\n",
       "    <tr style=\"text-align: right;\">\n",
       "      <th></th>\n",
       "      <th>duration</th>\n",
       "      <th>days_left</th>\n",
       "      <th>price</th>\n",
       "      <th>class_Economy</th>\n",
       "      <th>arrival_time_encode</th>\n",
       "      <th>departure_time_encode</th>\n",
       "      <th>stops_encode</th>\n",
       "    </tr>\n",
       "  </thead>\n",
       "  <tbody>\n",
       "    <tr>\n",
       "      <th>0</th>\n",
       "      <td>2.17</td>\n",
       "      <td>1</td>\n",
       "      <td>5953</td>\n",
       "      <td>True</td>\n",
       "      <td>4</td>\n",
       "      <td>3</td>\n",
       "      <td>0</td>\n",
       "    </tr>\n",
       "    <tr>\n",
       "      <th>1</th>\n",
       "      <td>2.33</td>\n",
       "      <td>1</td>\n",
       "      <td>5953</td>\n",
       "      <td>True</td>\n",
       "      <td>1</td>\n",
       "      <td>0</td>\n",
       "      <td>0</td>\n",
       "    </tr>\n",
       "    <tr>\n",
       "      <th>2</th>\n",
       "      <td>2.17</td>\n",
       "      <td>1</td>\n",
       "      <td>5956</td>\n",
       "      <td>True</td>\n",
       "      <td>0</td>\n",
       "      <td>0</td>\n",
       "      <td>0</td>\n",
       "    </tr>\n",
       "    <tr>\n",
       "      <th>3</th>\n",
       "      <td>2.25</td>\n",
       "      <td>1</td>\n",
       "      <td>5955</td>\n",
       "      <td>True</td>\n",
       "      <td>2</td>\n",
       "      <td>1</td>\n",
       "      <td>0</td>\n",
       "    </tr>\n",
       "    <tr>\n",
       "      <th>4</th>\n",
       "      <td>2.33</td>\n",
       "      <td>1</td>\n",
       "      <td>5955</td>\n",
       "      <td>True</td>\n",
       "      <td>1</td>\n",
       "      <td>1</td>\n",
       "      <td>0</td>\n",
       "    </tr>\n",
       "    <tr>\n",
       "      <th>...</th>\n",
       "      <td>...</td>\n",
       "      <td>...</td>\n",
       "      <td>...</td>\n",
       "      <td>...</td>\n",
       "      <td>...</td>\n",
       "      <td>...</td>\n",
       "      <td>...</td>\n",
       "    </tr>\n",
       "    <tr>\n",
       "      <th>270133</th>\n",
       "      <td>17.25</td>\n",
       "      <td>49</td>\n",
       "      <td>68739</td>\n",
       "      <td>False</td>\n",
       "      <td>4</td>\n",
       "      <td>0</td>\n",
       "      <td>1</td>\n",
       "    </tr>\n",
       "    <tr>\n",
       "      <th>270134</th>\n",
       "      <td>10.08</td>\n",
       "      <td>49</td>\n",
       "      <td>69265</td>\n",
       "      <td>False</td>\n",
       "      <td>3</td>\n",
       "      <td>1</td>\n",
       "      <td>1</td>\n",
       "    </tr>\n",
       "    <tr>\n",
       "      <th>270135</th>\n",
       "      <td>10.42</td>\n",
       "      <td>49</td>\n",
       "      <td>77105</td>\n",
       "      <td>False</td>\n",
       "      <td>4</td>\n",
       "      <td>2</td>\n",
       "      <td>1</td>\n",
       "    </tr>\n",
       "    <tr>\n",
       "      <th>270136</th>\n",
       "      <td>10.00</td>\n",
       "      <td>49</td>\n",
       "      <td>81585</td>\n",
       "      <td>False</td>\n",
       "      <td>3</td>\n",
       "      <td>0</td>\n",
       "      <td>1</td>\n",
       "    </tr>\n",
       "    <tr>\n",
       "      <th>270137</th>\n",
       "      <td>10.08</td>\n",
       "      <td>49</td>\n",
       "      <td>81585</td>\n",
       "      <td>False</td>\n",
       "      <td>3</td>\n",
       "      <td>1</td>\n",
       "      <td>1</td>\n",
       "    </tr>\n",
       "  </tbody>\n",
       "</table>\n",
       "<p>270138 rows × 7 columns</p>\n",
       "</div>"
      ],
      "text/plain": [
       "        duration  days_left  price  class_Economy  arrival_time_encode  \\\n",
       "0           2.17          1   5953           True                    4   \n",
       "1           2.33          1   5953           True                    1   \n",
       "2           2.17          1   5956           True                    0   \n",
       "3           2.25          1   5955           True                    2   \n",
       "4           2.33          1   5955           True                    1   \n",
       "...          ...        ...    ...            ...                  ...   \n",
       "270133     17.25         49  68739          False                    4   \n",
       "270134     10.08         49  69265          False                    3   \n",
       "270135     10.42         49  77105          False                    4   \n",
       "270136     10.00         49  81585          False                    3   \n",
       "270137     10.08         49  81585          False                    3   \n",
       "\n",
       "        departure_time_encode  stops_encode  \n",
       "0                           3             0  \n",
       "1                           0             0  \n",
       "2                           0             0  \n",
       "3                           1             0  \n",
       "4                           1             0  \n",
       "...                       ...           ...  \n",
       "270133                      0             1  \n",
       "270134                      1             1  \n",
       "270135                      2             1  \n",
       "270136                      0             1  \n",
       "270137                      1             1  \n",
       "\n",
       "[270138 rows x 7 columns]"
      ]
     },
     "execution_count": 9,
     "metadata": {},
     "output_type": "execute_result"
    }
   ],
   "source": [
    "mapping = {'zero': 0,\n",
    "           'one' : 1,\n",
    "           'two_or_more' : 2}\n",
    "\n",
    "df['stops_encode'] = df['stops'].map(mapping)\n",
    "df = df.drop('stops', axis = 1)\n",
    "df"
   ]
  },
  {
   "cell_type": "markdown",
   "id": "c02613d5",
   "metadata": {},
   "source": [
    "# Feature Correlation "
   ]
  },
  {
   "cell_type": "code",
   "execution_count": 10,
   "id": "edc05d10",
   "metadata": {
    "scrolled": true
   },
   "outputs": [
    {
     "data": {
      "text/html": [
       "<div>\n",
       "<style scoped>\n",
       "    .dataframe tbody tr th:only-of-type {\n",
       "        vertical-align: middle;\n",
       "    }\n",
       "\n",
       "    .dataframe tbody tr th {\n",
       "        vertical-align: top;\n",
       "    }\n",
       "\n",
       "    .dataframe thead th {\n",
       "        text-align: right;\n",
       "    }\n",
       "</style>\n",
       "<table border=\"1\" class=\"dataframe\">\n",
       "  <thead>\n",
       "    <tr style=\"text-align: right;\">\n",
       "      <th></th>\n",
       "      <th>duration</th>\n",
       "      <th>days_left</th>\n",
       "      <th>price</th>\n",
       "      <th>class_Economy</th>\n",
       "      <th>arrival_time_encode</th>\n",
       "      <th>departure_time_encode</th>\n",
       "      <th>stops_encode</th>\n",
       "    </tr>\n",
       "  </thead>\n",
       "  <tbody>\n",
       "    <tr>\n",
       "      <th>duration</th>\n",
       "      <td>1.000000</td>\n",
       "      <td>-0.039288</td>\n",
       "      <td>0.204198</td>\n",
       "      <td>-0.138937</td>\n",
       "      <td>-0.124206</td>\n",
       "      <td>0.131420</td>\n",
       "      <td>0.468928</td>\n",
       "    </tr>\n",
       "    <tr>\n",
       "      <th>days_left</th>\n",
       "      <td>-0.039288</td>\n",
       "      <td>1.000000</td>\n",
       "      <td>-0.091091</td>\n",
       "      <td>0.012238</td>\n",
       "      <td>0.000499</td>\n",
       "      <td>0.000081</td>\n",
       "      <td>-0.009128</td>\n",
       "    </tr>\n",
       "    <tr>\n",
       "      <th>price</th>\n",
       "      <td>0.204198</td>\n",
       "      <td>-0.091091</td>\n",
       "      <td>1.000000</td>\n",
       "      <td>-0.937923</td>\n",
       "      <td>-0.000813</td>\n",
       "      <td>0.019681</td>\n",
       "      <td>0.120344</td>\n",
       "    </tr>\n",
       "    <tr>\n",
       "      <th>class_Economy</th>\n",
       "      <td>-0.138937</td>\n",
       "      <td>0.012238</td>\n",
       "      <td>-0.937923</td>\n",
       "      <td>1.000000</td>\n",
       "      <td>0.022188</td>\n",
       "      <td>-0.029657</td>\n",
       "      <td>-0.001790</td>\n",
       "    </tr>\n",
       "    <tr>\n",
       "      <th>arrival_time_encode</th>\n",
       "      <td>-0.124206</td>\n",
       "      <td>0.000499</td>\n",
       "      <td>-0.000813</td>\n",
       "      <td>0.022188</td>\n",
       "      <td>1.000000</td>\n",
       "      <td>-0.079846</td>\n",
       "      <td>0.045254</td>\n",
       "    </tr>\n",
       "    <tr>\n",
       "      <th>departure_time_encode</th>\n",
       "      <td>0.131420</td>\n",
       "      <td>0.000081</td>\n",
       "      <td>0.019681</td>\n",
       "      <td>-0.029657</td>\n",
       "      <td>-0.079846</td>\n",
       "      <td>1.000000</td>\n",
       "      <td>-0.070057</td>\n",
       "    </tr>\n",
       "    <tr>\n",
       "      <th>stops_encode</th>\n",
       "      <td>0.468928</td>\n",
       "      <td>-0.009128</td>\n",
       "      <td>0.120344</td>\n",
       "      <td>-0.001790</td>\n",
       "      <td>0.045254</td>\n",
       "      <td>-0.070057</td>\n",
       "      <td>1.000000</td>\n",
       "    </tr>\n",
       "  </tbody>\n",
       "</table>\n",
       "</div>"
      ],
      "text/plain": [
       "                       duration  days_left     price  class_Economy  \\\n",
       "duration               1.000000  -0.039288  0.204198      -0.138937   \n",
       "days_left             -0.039288   1.000000 -0.091091       0.012238   \n",
       "price                  0.204198  -0.091091  1.000000      -0.937923   \n",
       "class_Economy         -0.138937   0.012238 -0.937923       1.000000   \n",
       "arrival_time_encode   -0.124206   0.000499 -0.000813       0.022188   \n",
       "departure_time_encode  0.131420   0.000081  0.019681      -0.029657   \n",
       "stops_encode           0.468928  -0.009128  0.120344      -0.001790   \n",
       "\n",
       "                       arrival_time_encode  departure_time_encode  \\\n",
       "duration                         -0.124206               0.131420   \n",
       "days_left                         0.000499               0.000081   \n",
       "price                            -0.000813               0.019681   \n",
       "class_Economy                     0.022188              -0.029657   \n",
       "arrival_time_encode               1.000000              -0.079846   \n",
       "departure_time_encode            -0.079846               1.000000   \n",
       "stops_encode                      0.045254              -0.070057   \n",
       "\n",
       "                       stops_encode  \n",
       "duration                   0.468928  \n",
       "days_left                 -0.009128  \n",
       "price                      0.120344  \n",
       "class_Economy             -0.001790  \n",
       "arrival_time_encode        0.045254  \n",
       "departure_time_encode     -0.070057  \n",
       "stops_encode               1.000000  "
      ]
     },
     "execution_count": 10,
     "metadata": {},
     "output_type": "execute_result"
    }
   ],
   "source": [
    "df.corr()"
   ]
  },
  {
   "cell_type": "code",
   "execution_count": 11,
   "id": "cd9fcbe8",
   "metadata": {},
   "outputs": [
    {
     "data": {
      "image/png": "[encoded data removed]",
      "text/plain": [
       "<Figure size 800x600 with 2 Axes>"
      ]
     },
     "metadata": {},
     "output_type": "display_data"
    }
   ],
   "source": [
    "plt.figure(figsize=(8,6))\n",
    "sns.heatmap(df.corr(), annot = True, cmap = 'coolwarm')\n",
    "plt.title(\"Correlation Heatmap\")\n",
    "plt.show()"
   ]
  },
  {
   "cell_type": "markdown",
   "id": "8e5728d0",
   "metadata": {},
   "source": [
    "# Define X and y Sets"
   ]
  },
  {
   "cell_type": "code",
   "execution_count": 12,
   "id": "72e74440",
   "metadata": {},
   "outputs": [],
   "source": [
    "X_df = df.drop(columns=['price'])\n",
    "y_df = df['price']"
   ]
  },
  {
   "cell_type": "code",
   "execution_count": 13,
   "id": "2568d355",
   "metadata": {},
   "outputs": [
    {
     "data": {
      "text/html": [
       "<div>\n",
       "<style scoped>\n",
       "    .dataframe tbody tr th:only-of-type {\n",
       "        vertical-align: middle;\n",
       "    }\n",
       "\n",
       "    .dataframe tbody tr th {\n",
       "        vertical-align: top;\n",
       "    }\n",
       "\n",
       "    .dataframe thead th {\n",
       "        text-align: right;\n",
       "    }\n",
       "</style>\n",
       "<table border=\"1\" class=\"dataframe\">\n",
       "  <thead>\n",
       "    <tr style=\"text-align: right;\">\n",
       "      <th></th>\n",
       "      <th>duration</th>\n",
       "      <th>days_left</th>\n",
       "      <th>class_Economy</th>\n",
       "      <th>arrival_time_encode</th>\n",
       "      <th>departure_time_encode</th>\n",
       "      <th>stops_encode</th>\n",
       "    </tr>\n",
       "  </thead>\n",
       "  <tbody>\n",
       "    <tr>\n",
       "      <th>0</th>\n",
       "      <td>2.17</td>\n",
       "      <td>1</td>\n",
       "      <td>1</td>\n",
       "      <td>4</td>\n",
       "      <td>3</td>\n",
       "      <td>0</td>\n",
       "    </tr>\n",
       "    <tr>\n",
       "      <th>1</th>\n",
       "      <td>2.33</td>\n",
       "      <td>1</td>\n",
       "      <td>1</td>\n",
       "      <td>1</td>\n",
       "      <td>0</td>\n",
       "      <td>0</td>\n",
       "    </tr>\n",
       "    <tr>\n",
       "      <th>2</th>\n",
       "      <td>2.17</td>\n",
       "      <td>1</td>\n",
       "      <td>1</td>\n",
       "      <td>0</td>\n",
       "      <td>0</td>\n",
       "      <td>0</td>\n",
       "    </tr>\n",
       "    <tr>\n",
       "      <th>3</th>\n",
       "      <td>2.25</td>\n",
       "      <td>1</td>\n",
       "      <td>1</td>\n",
       "      <td>2</td>\n",
       "      <td>1</td>\n",
       "      <td>0</td>\n",
       "    </tr>\n",
       "    <tr>\n",
       "      <th>4</th>\n",
       "      <td>2.33</td>\n",
       "      <td>1</td>\n",
       "      <td>1</td>\n",
       "      <td>1</td>\n",
       "      <td>1</td>\n",
       "      <td>0</td>\n",
       "    </tr>\n",
       "    <tr>\n",
       "      <th>...</th>\n",
       "      <td>...</td>\n",
       "      <td>...</td>\n",
       "      <td>...</td>\n",
       "      <td>...</td>\n",
       "      <td>...</td>\n",
       "      <td>...</td>\n",
       "    </tr>\n",
       "    <tr>\n",
       "      <th>270133</th>\n",
       "      <td>17.25</td>\n",
       "      <td>49</td>\n",
       "      <td>0</td>\n",
       "      <td>4</td>\n",
       "      <td>0</td>\n",
       "      <td>1</td>\n",
       "    </tr>\n",
       "    <tr>\n",
       "      <th>270134</th>\n",
       "      <td>10.08</td>\n",
       "      <td>49</td>\n",
       "      <td>0</td>\n",
       "      <td>3</td>\n",
       "      <td>1</td>\n",
       "      <td>1</td>\n",
       "    </tr>\n",
       "    <tr>\n",
       "      <th>270135</th>\n",
       "      <td>10.42</td>\n",
       "      <td>49</td>\n",
       "      <td>0</td>\n",
       "      <td>4</td>\n",
       "      <td>2</td>\n",
       "      <td>1</td>\n",
       "    </tr>\n",
       "    <tr>\n",
       "      <th>270136</th>\n",
       "      <td>10.00</td>\n",
       "      <td>49</td>\n",
       "      <td>0</td>\n",
       "      <td>3</td>\n",
       "      <td>0</td>\n",
       "      <td>1</td>\n",
       "    </tr>\n",
       "    <tr>\n",
       "      <th>270137</th>\n",
       "      <td>10.08</td>\n",
       "      <td>49</td>\n",
       "      <td>0</td>\n",
       "      <td>3</td>\n",
       "      <td>1</td>\n",
       "      <td>1</td>\n",
       "    </tr>\n",
       "  </tbody>\n",
       "</table>\n",
       "<p>270138 rows × 6 columns</p>\n",
       "</div>"
      ],
      "text/plain": [
       "        duration  days_left  class_Economy  arrival_time_encode  \\\n",
       "0           2.17          1              1                    4   \n",
       "1           2.33          1              1                    1   \n",
       "2           2.17          1              1                    0   \n",
       "3           2.25          1              1                    2   \n",
       "4           2.33          1              1                    1   \n",
       "...          ...        ...            ...                  ...   \n",
       "270133     17.25         49              0                    4   \n",
       "270134     10.08         49              0                    3   \n",
       "270135     10.42         49              0                    4   \n",
       "270136     10.00         49              0                    3   \n",
       "270137     10.08         49              0                    3   \n",
       "\n",
       "        departure_time_encode  stops_encode  \n",
       "0                           3             0  \n",
       "1                           0             0  \n",
       "2                           0             0  \n",
       "3                           1             0  \n",
       "4                           1             0  \n",
       "...                       ...           ...  \n",
       "270133                      0             1  \n",
       "270134                      1             1  \n",
       "270135                      2             1  \n",
       "270136                      0             1  \n",
       "270137                      1             1  \n",
       "\n",
       "[270138 rows x 6 columns]"
      ]
     },
     "execution_count": 13,
     "metadata": {},
     "output_type": "execute_result"
    }
   ],
   "source": [
    "# convert True-False to 1 and 0\n",
    "X_df['class_Economy'] = X_df['class_Economy'].astype(int)\n",
    "X_df"
   ]
  },
  {
   "cell_type": "markdown",
   "id": "c6af3b78",
   "metadata": {},
   "source": [
    "# Split Data to Train and Test Sets"
   ]
  },
  {
   "cell_type": "code",
   "execution_count": 14,
   "id": "9d400d68",
   "metadata": {},
   "outputs": [],
   "source": [
    "x_train, x_test, y_train, y_test = train_test_split(X_df, y_df, test_size=0.2, shuffle=True)"
   ]
  },
  {
   "cell_type": "code",
   "execution_count": 15,
   "id": "b8a57dde",
   "metadata": {},
   "outputs": [],
   "source": [
    "X = x_train.to_numpy()\n",
    "y = y_train.to_numpy()\n",
    "y = y.reshape(-1, 1)"
   ]
  },
  {
   "cell_type": "markdown",
   "id": "eb597932",
   "metadata": {},
   "source": [
    "# Data Normalization"
   ]
  },
  {
   "cell_type": "code",
   "execution_count": 16,
   "id": "09354872",
   "metadata": {},
   "outputs": [],
   "source": [
    "X = (X - np.mean(X, axis=0)) / np.std(X, axis=0)\n",
    "x_test = (x_test - np.mean(x_test, axis=0)) / np.std(x_test, axis=0)"
   ]
  },
  {
   "cell_type": "markdown",
   "id": "d6f80554",
   "metadata": {},
   "source": [
    "# Prediction and Cost Function"
   ]
  },
  {
   "cell_type": "code",
   "execution_count": 17,
   "id": "64a61e0e",
   "metadata": {},
   "outputs": [],
   "source": [
    "def predict(W, X, b):\n",
    "    return X @ W + b"
   ]
  },
  {
   "cell_type": "markdown",
   "id": "94ba9d89",
   "metadata": {},
   "source": [
    "$$f_{w,b}(X) = X^TW  + b$$"
   ]
  },
  {
   "cell_type": "code",
   "execution_count": 18,
   "id": "1763b602",
   "metadata": {},
   "outputs": [],
   "source": [
    "def cost_function(y_hat, y):\n",
    "    return np.mean((y_hat - y)**2) / 2"
   ]
  },
  {
   "cell_type": "markdown",
   "id": "d586c9cf",
   "metadata": {},
   "source": [
    "$$J(w,b) = \\frac{1}{2m} \\sum\\limits_{i = 0}^{m-1} (f_{w,b}(x^{(i)}) - y^{(i)})^2$$ \n"
   ]
  },
  {
   "cell_type": "markdown",
   "id": "0b96d361",
   "metadata": {},
   "source": [
    "# Model Definition"
   ]
  },
  {
   "cell_type": "code",
   "execution_count": 19,
   "id": "f520179d",
   "metadata": {},
   "outputs": [],
   "source": [
    "def gradient_descent(X, y, W, b, alpha):\n",
    "    n = X.shape[1]\n",
    "    m = X.shape[0]\n",
    "    \n",
    "    error = predict(W, X, b) - y\n",
    "    dW = X.T @ error / X.shape[0]\n",
    "    db = np.mean(error)\n",
    "    \n",
    "    W -= alpha * dW\n",
    "    b -= alpha * db\n",
    "    \n",
    "    return W, b, error"
   ]
  },
  {
   "cell_type": "markdown",
   "id": "7ef1eda8",
   "metadata": {},
   "source": [
    "\n",
    "\n",
    "$$\n",
    "\\frac{\\partial J(w,b)}{\\partial b}  = \\frac{1}{m} \\sum\\limits_{i = 0}^{m-1} (f_{w,b}(x^{(i)}) - y^{(i)})\n",
    "$$\n",
    "$$\n",
    "\\frac{\\partial J(w,b)}{\\partial w}  = \\frac{1}{m} \\sum\\limits_{i = 0}^{m-1} (f_{w,b}(x^{(i)}) -y^{(i)})x^{(i)} \n",
    "$$\n"
   ]
  },
  {
   "cell_type": "markdown",
   "id": "59d81396",
   "metadata": {},
   "source": [
    "$$\\begin{align*}& \\text{repeat until convergence:} \\; \\lbrace \\newline \\; & \\phantom {0000} b := b -  \\alpha \\frac{\\partial J(w,b)}{\\partial b} \\newline       \\; & \\phantom {0000} w := w -  \\alpha \\frac{\\partial J(w,b)}{\\partial w} \\tag{1}  \\; & \n",
    "\\newline & \\rbrace\\end{align*}$$"
   ]
  },
  {
   "cell_type": "code",
   "execution_count": 20,
   "id": "52d13497",
   "metadata": {},
   "outputs": [],
   "source": [
    "def model(X, y, max_itr = 1000, convergence_threshold = 0.0001):\n",
    "    start = time.time()\n",
    "    \n",
    "    n = X.shape[1]\n",
    "    W = np.random.rand(n, 1)\n",
    "    b = 0\n",
    "    alpha = 0.01\n",
    "    cost_history = np.zeros(max_itr)\n",
    "    itr = 0\n",
    "    \n",
    "    for i in range(max_itr):\n",
    "        W, b, error = gradient_descent(X, y, W, b, alpha)\n",
    "        cost_history[i] = np.mean(error**2)\n",
    "        itr += 1\n",
    "        \n",
    "        if (i + 1) % 20 == 0:\n",
    "            print(f\"Cost Function on Iteration {i + 1} = {cost_history[i]}\")\n",
    "            \n",
    "        if i > 0 and cost_history[i - 1] - cost_history[i] < convergence_threshold:\n",
    "            break\n",
    "            \n",
    "    end = time.time()\n",
    "\n",
    "    return W, b, cost_history, itr, end - start"
   ]
  },
  {
   "cell_type": "markdown",
   "id": "a9544140",
   "metadata": {},
   "source": [
    "# Use Model"
   ]
  },
  {
   "cell_type": "code",
   "execution_count": 21,
   "id": "b3834bcf",
   "metadata": {},
   "outputs": [
    {
     "name": "stdout",
     "output_type": "stream",
     "text": [
      "Cost Function on Iteration 20 = 661606543.7059146\n",
      "Cost Function on Iteration 40 = 457348920.98828834\n",
      "Cost Function on Iteration 60 = 322236283.7292506\n",
      "Cost Function on Iteration 80 = 232576479.6458685\n",
      "Cost Function on Iteration 100 = 172910487.14110562\n",
      "Cost Function on Iteration 120 = 133103085.24248475\n",
      "Cost Function on Iteration 140 = 106482002.49155548\n",
      "Cost Function on Iteration 160 = 88639115.66425493\n",
      "Cost Function on Iteration 180 = 76653239.44712952\n",
      "Cost Function on Iteration 200 = 68583440.5521775\n",
      "Cost Function on Iteration 220 = 63137124.12977077\n",
      "Cost Function on Iteration 240 = 59451708.26277161\n",
      "Cost Function on Iteration 260 = 56950506.16681441\n",
      "Cost Function on Iteration 280 = 55247306.28438428\n",
      "Cost Function on Iteration 300 = 54083032.545408465\n",
      "Cost Function on Iteration 320 = 53283606.88264794\n",
      "Cost Function on Iteration 340 = 52731863.59750223\n",
      "Cost Function on Iteration 360 = 52348798.63120594\n",
      "Cost Function on Iteration 380 = 52081032.672683924\n",
      "Cost Function on Iteration 400 = 51892417.68664464\n"
     ]
    }
   ],
   "source": [
    "W, b, cost_history, itr, ex_time = model(X, y, 400)"
   ]
  },
  {
   "cell_type": "markdown",
   "id": "1f2ba24e",
   "metadata": {},
   "source": [
    "# Metrics"
   ]
  },
  {
   "cell_type": "code",
   "execution_count": 22,
   "id": "f5eba6cc",
   "metadata": {},
   "outputs": [],
   "source": [
    "y_pred = predict(W, x_test, b)"
   ]
  },
  {
   "cell_type": "code",
   "execution_count": 23,
   "id": "19f39126",
   "metadata": {},
   "outputs": [
    {
     "name": "stdout",
     "output_type": "stream",
     "text": [
      "R^2: 0.9006741040430452\n",
      "MAE: 4591.022105125186\n",
      "MSE: 50955125.80254985\n",
      "RMSE: 7138.2859148782945\n"
     ]
    }
   ],
   "source": [
    "print('R^2:',metrics.r2_score(y_test, y_pred))\n",
    "print('MAE:',metrics.mean_absolute_error(y_test, y_pred))\n",
    "print('MSE:',metrics.mean_squared_error(y_test, y_pred))\n",
    "print('RMSE:',np.sqrt(metrics.mean_squared_error(y_test, y_pred)))"
   ]
  },
  {
   "cell_type": "code",
   "execution_count": 24,
   "id": "98cd32d0",
   "metadata": {},
   "outputs": [],
   "source": [
    "y_pred = predict(W, X, b)"
   ]
  },
  {
   "cell_type": "code",
   "execution_count": 25,
   "id": "8228c66e",
   "metadata": {},
   "outputs": [
    {
     "name": "stdout",
     "output_type": "stream",
     "text": [
      "R^2: 0.8993881668949277\n",
      "MAE: 4623.264656184306\n",
      "MSE: 51884586.00185129\n",
      "RMSE: 7203.095584667143\n"
     ]
    }
   ],
   "source": [
    "print('R^2:',metrics.r2_score(y, y_pred))\n",
    "print('MAE:',metrics.mean_absolute_error(y, y_pred))\n",
    "print('MSE:',metrics.mean_squared_error(y, y_pred))\n",
    "print('RMSE:',np.sqrt(metrics.mean_squared_error(y, y_pred)))"
   ]
  },
  {
   "cell_type": "markdown",
   "id": "39dfdf3f",
   "metadata": {},
   "source": [
    "# Plot"
   ]
  },
  {
   "cell_type": "code",
   "execution_count": 26,
   "id": "b0a647f6",
   "metadata": {},
   "outputs": [
    {
     "data": {
      "image/png": "[encoded data removed]",
      "text/plain": [
       "<Figure size 640x480 with 1 Axes>"
      ]
     },
     "metadata": {},
     "output_type": "display_data"
    }
   ],
   "source": [
    "plt.plot(range(1, len(cost_history) + 1), cost_history, color='purple')\n",
    "plt.xlabel('Number of iterations')\n",
    "plt.ylabel('Cost J')\n",
    "plt.title('Gradient Descent: Cost over Iterations')\n",
    "plt.show()"
   ]
  },
  {
   "cell_type": "markdown",
   "id": "ba9f3fae",
   "metadata": {},
   "source": [
    "# Result"
   ]
  },
  {
   "cell_type": "code",
   "execution_count": 27,
   "id": "ce45272e",
   "metadata": {},
   "outputs": [
    {
     "name": "stdout",
     "output_type": "stream",
     "text": [
      "PRICE =\n",
      "1045.9176032714022 * duration + \n",
      "-1730.5663874902416 * days_left + \n",
      "-20725.651493418718 * class_Economy + \n",
      "473.4334578379959 * arrival_time_encode + \n",
      "-128.52906791756075 * departure_time_encode + \n",
      "2013.89835169293 * stops_encode + \n",
      "20530.246491647755\n"
     ]
    }
   ],
   "source": [
    "print(\"PRICE =\"\n",
    "      f\"\\n{W[0][0]} * {X_df.columns[0]} +\", \n",
    "      f\"\\n{W[1][0]} * {X_df.columns[1]} +\",\n",
    "      f\"\\n{W[2][0]} * {X_df.columns[2]} +\",\n",
    "      f\"\\n{W[3][0]} * {X_df.columns[3]} +\",\n",
    "      f\"\\n{W[4][0]} * {X_df.columns[4]} +\",\n",
    "      f\"\\n{W[5][0]} * {X_df.columns[5]} +\",\n",
    "      f\"\\n{b}\")"
   ]
  },
  {
   "cell_type": "code",
   "execution_count": 28,
   "id": "7503913d",
   "metadata": {},
   "outputs": [
    {
     "name": "stdout",
     "output_type": "stream",
     "text": [
      "Training Time: = 1.9529471397399902s\n"
     ]
    }
   ],
   "source": [
    "print(f\"Training Time: = {ex_time}s\")"
   ]
  },
  {
   "cell_type": "code",
   "execution_count": 29,
   "id": "a1c2c5da",
   "metadata": {},
   "outputs": [
    {
     "name": "stdout",
     "output_type": "stream",
     "text": [
      "Logs\n",
      "MSE = 51884586.00185129\n",
      "RMSE = 7203.095584667143\n",
      "MAE = 4623.264656184306\n",
      "R2 = 0.8993881668949277\n"
     ]
    }
   ],
   "source": [
    "print(\"Logs\", f\"MSE = {metrics.mean_squared_error(y, y_pred)}\",\n",
    "              f\"RMSE = {np.sqrt(metrics.mean_squared_error(y, y_pred))}\",\n",
    "              f\"MAE = {metrics.mean_absolute_error(y, y_pred)}\",\n",
    "              f\"R2 = {metrics.r2_score(y, y_pred)}\", sep = \"\\n\")"
   ]
  }
 ],
 "metadata": {
  "kernelspec": {
   "display_name": "Python 3 (ipykernel)",
   "language": "python",
   "name": "python3"
  },
  "language_info": {
   "codemirror_mode": {
    "name": "ipython",
    "version": 3
   },
   "file_extension": ".py",
   "mimetype": "text/x-python",
   "name": "python",
   "nbconvert_exporter": "python",
   "pygments_lexer": "ipython3",
   "version": "3.11.5"
  }
 },
 "nbformat": 4,
 "nbformat_minor": 5
}
