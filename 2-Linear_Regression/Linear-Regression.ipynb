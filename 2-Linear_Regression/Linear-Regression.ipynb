{
 "cells": [
  {
   "cell_type": "markdown",
   "id": "db7be995",
   "metadata": {},
   "source": [
    "# Libraries"
   ]
  },
  {
   "cell_type": "code",
   "execution_count": 1,
   "id": "4be5c4ba",
   "metadata": {},
   "outputs": [
    {
     "ename": "ModuleNotFoundError",
     "evalue": "No module named 'sklearn'",
     "output_type": "error",
     "traceback": [
      "\u001b[0;31m---------------------------------------------------------------------------\u001b[0m",
      "\u001b[0;31mModuleNotFoundError\u001b[0m                       Traceback (most recent call last)",
      "Cell \u001b[0;32mIn[1], line 3\u001b[0m\n\u001b[1;32m      1\u001b[0m \u001b[38;5;28;01mimport\u001b[39;00m \u001b[38;5;21;01mpandas\u001b[39;00m \u001b[38;5;28;01mas\u001b[39;00m \u001b[38;5;21;01mpd\u001b[39;00m\n\u001b[1;32m      2\u001b[0m \u001b[38;5;28;01mimport\u001b[39;00m \u001b[38;5;21;01mnumpy\u001b[39;00m \u001b[38;5;28;01mas\u001b[39;00m \u001b[38;5;21;01mnp\u001b[39;00m\n\u001b[0;32m----> 3\u001b[0m \u001b[38;5;28;01mfrom\u001b[39;00m \u001b[38;5;21;01msklearn\u001b[39;00m\u001b[38;5;21;01m.\u001b[39;00m\u001b[38;5;21;01mpreprocessing\u001b[39;00m \u001b[38;5;28;01mimport\u001b[39;00m LabelEncoder\n\u001b[1;32m      4\u001b[0m \u001b[38;5;28;01mimport\u001b[39;00m \u001b[38;5;21;01mseaborn\u001b[39;00m \u001b[38;5;28;01mas\u001b[39;00m \u001b[38;5;21;01msns\u001b[39;00m\n\u001b[1;32m      5\u001b[0m \u001b[38;5;28;01mimport\u001b[39;00m \u001b[38;5;21;01mmatplotlib\u001b[39;00m\u001b[38;5;21;01m.\u001b[39;00m\u001b[38;5;21;01mpyplot\u001b[39;00m \u001b[38;5;28;01mas\u001b[39;00m \u001b[38;5;21;01mplt\u001b[39;00m\n",
      "\u001b[0;31mModuleNotFoundError\u001b[0m: No module named 'sklearn'"
     ]
    }
   ],
   "source": [
    "import pandas as pd\n",
    "import numpy as np\n",
    "from sklearn.preprocessing import LabelEncoder\n",
    "import seaborn as sns\n",
    "import matplotlib.pyplot as plt\n",
    "from sklearn.model_selection import train_test_split\n",
    "from sklearn import metrics\n",
    "import time"
   ]
  },
  {
   "cell_type": "markdown",
   "id": "a490c887",
   "metadata": {},
   "source": [
    "# Read and Inspect Data"
   ]
  },
  {
   "cell_type": "code",
   "execution_count": null,
   "id": "b533ac82",
   "metadata": {},
   "outputs": [],
   "source": [
    "df = pd.read_csv('Flight_Price_Dataset_Q2.csv')\n",
    "df"
   ]
  },
  {
   "cell_type": "code",
   "execution_count": null,
   "id": "cb9a3010",
   "metadata": {},
   "outputs": [],
   "source": [
    "df['stops'].value_counts()"
   ]
  },
  {
   "cell_type": "code",
   "execution_count": null,
   "id": "d52c90dd",
   "metadata": {},
   "outputs": [],
   "source": [
    "df['departure_time'].value_counts()"
   ]
  },
  {
   "cell_type": "code",
   "execution_count": null,
   "id": "eecef052",
   "metadata": {},
   "outputs": [],
   "source": [
    "df['arrival_time'].value_counts()"
   ]
  },
  {
   "cell_type": "code",
   "execution_count": null,
   "id": "17600b6d",
   "metadata": {},
   "outputs": [],
   "source": [
    "df['class'].value_counts()"
   ]
  },
  {
   "cell_type": "markdown",
   "id": "6a4944f4",
   "metadata": {},
   "source": [
    "# One-Hot Encoding"
   ]
  },
  {
   "cell_type": "markdown",
   "id": "c1ca7f1b",
   "metadata": {},
   "source": [
    "### Class"
   ]
  },
  {
   "cell_type": "code",
   "execution_count": null,
   "id": "d5b70133",
   "metadata": {
    "scrolled": true
   },
   "outputs": [],
   "source": [
    "df = pd.get_dummies(df, columns=['class'], drop_first=True)\n",
    "df"
   ]
  },
  {
   "cell_type": "markdown",
   "id": "16b58850",
   "metadata": {},
   "source": [
    "# Label Encoding"
   ]
  },
  {
   "cell_type": "markdown",
   "id": "53f6b1a5",
   "metadata": {},
   "source": [
    "### Arrival_time and Departure_time"
   ]
  },
  {
   "cell_type": "code",
   "execution_count": null,
   "id": "d5fbdaff",
   "metadata": {
    "scrolled": true
   },
   "outputs": [],
   "source": [
    "mapping = {'Early_Morning': 0,\n",
    "           'Morning' : 1,\n",
    "           'Afternoon' : 2,\n",
    "           'Evening' : 3,\n",
    "           'Night': 4,\n",
    "           'Late_Night': 5}\n",
    "\n",
    "df['arrival_time_encode'] = df['arrival_time'].map(mapping)\n",
    "df['departure_time_encode'] = df['departure_time'].map(mapping)\n",
    "df = df.drop('arrival_time', axis = 1)\n",
    "df = df.drop('departure_time', axis = 1)\n",
    "\n",
    "df"
   ]
  },
  {
   "cell_type": "markdown",
   "id": "e959dc2f",
   "metadata": {},
   "source": [
    "### Stops"
   ]
  },
  {
   "cell_type": "code",
   "execution_count": null,
   "id": "779bebc7",
   "metadata": {},
   "outputs": [],
   "source": [
    "mapping = {'zero': 0,\n",
    "           'one' : 1,\n",
    "           'two_or_more' : 2}\n",
    "\n",
    "df['stops_encode'] = df['stops'].map(mapping)\n",
    "df = df.drop('stops', axis = 1)\n",
    "df"
   ]
  },
  {
   "cell_type": "markdown",
   "id": "c02613d5",
   "metadata": {},
   "source": [
    "# Feature Correlation "
   ]
  },
  {
   "cell_type": "code",
   "execution_count": null,
   "id": "edc05d10",
   "metadata": {
    "scrolled": true
   },
   "outputs": [],
   "source": [
    "df.corr()"
   ]
  },
  {
   "cell_type": "code",
   "execution_count": null,
   "id": "cd9fcbe8",
   "metadata": {},
   "outputs": [],
   "source": [
    "plt.figure(figsize=(8,6))\n",
    "sns.heatmap(df.corr(), annot = True, cmap = 'coolwarm')\n",
    "plt.title(\"Correlation Heatmap\")\n",
    "plt.show()"
   ]
  },
  {
   "cell_type": "markdown",
   "id": "8e5728d0",
   "metadata": {},
   "source": [
    "# Define X and y Sets"
   ]
  },
  {
   "cell_type": "code",
   "execution_count": null,
   "id": "72e74440",
   "metadata": {},
   "outputs": [],
   "source": [
    "X_df = df.drop(columns=['price'])\n",
    "y_df = df['price']"
   ]
  },
  {
   "cell_type": "code",
   "execution_count": null,
   "id": "2568d355",
   "metadata": {},
   "outputs": [],
   "source": [
    "# convert True-False to 1 and 0\n",
    "X_df['class_Economy'] = X_df['class_Economy'].astype(int)\n",
    "X_df"
   ]
  },
  {
   "cell_type": "markdown",
   "id": "c6af3b78",
   "metadata": {},
   "source": [
    "# Split Data to Train and Test Sets"
   ]
  },
  {
   "cell_type": "code",
   "execution_count": null,
   "id": "9d400d68",
   "metadata": {},
   "outputs": [],
   "source": [
    "x_train, x_test, y_train, y_test = train_test_split(X_df, y_df, test_size=0.2, shuffle=True)"
   ]
  },
  {
   "cell_type": "code",
   "execution_count": null,
   "id": "b8a57dde",
   "metadata": {},
   "outputs": [],
   "source": [
    "X = x_train.to_numpy()\n",
    "y = y_train.to_numpy()\n",
    "y = y.reshape(-1, 1)"
   ]
  },
  {
   "cell_type": "markdown",
   "id": "eb597932",
   "metadata": {},
   "source": [
    "# Data Normalization"
   ]
  },
  {
   "cell_type": "code",
   "execution_count": null,
   "id": "09354872",
   "metadata": {},
   "outputs": [],
   "source": [
    "X = (X - np.mean(X, axis=0)) / np.std(X, axis=0)\n",
    "x_test = (x_test - np.mean(x_test, axis=0)) / np.std(x_test, axis=0)"
   ]
  },
  {
   "cell_type": "markdown",
   "id": "d6f80554",
   "metadata": {},
   "source": [
    "# Prediction and Cost Function"
   ]
  },
  {
   "cell_type": "code",
   "execution_count": null,
   "id": "64a61e0e",
   "metadata": {},
   "outputs": [],
   "source": [
    "def predict(W, X, b):\n",
    "    return X @ W + b"
   ]
  },
  {
   "cell_type": "markdown",
   "id": "94ba9d89",
   "metadata": {},
   "source": [
    "$$f_{w,b}(X) = X^TW  + b$$"
   ]
  },
  {
   "cell_type": "code",
   "execution_count": null,
   "id": "1763b602",
   "metadata": {},
   "outputs": [],
   "source": [
    "def cost_function(y_hat, y):\n",
    "    return np.mean((y_hat - y)**2) / 2"
   ]
  },
  {
   "cell_type": "markdown",
   "id": "d586c9cf",
   "metadata": {},
   "source": [
    "$$J(w,b) = \\frac{1}{2m} \\sum\\limits_{i = 0}^{m-1} (f_{w,b}(x^{(i)}) - y^{(i)})^2$$ \n"
   ]
  },
  {
   "cell_type": "markdown",
   "id": "0b96d361",
   "metadata": {},
   "source": [
    "# Model Definition"
   ]
  },
  {
   "cell_type": "code",
   "execution_count": null,
   "id": "f520179d",
   "metadata": {},
   "outputs": [],
   "source": [
    "def gradient_descent(X, y, W, b, alpha):\n",
    "    n = X.shape[1]\n",
    "    m = X.shape[0]\n",
    "    \n",
    "    error = predict(W, X, b) - y\n",
    "    dW = X.T @ error / X.shape[0]\n",
    "    db = np.mean(error)\n",
    "    \n",
    "    W -= alpha * dW\n",
    "    b -= alpha * db\n",
    "    \n",
    "    return W, b, error"
   ]
  },
  {
   "cell_type": "markdown",
   "id": "7ef1eda8",
   "metadata": {},
   "source": [
    "\n",
    "\n",
    "$$\n",
    "\\frac{\\partial J(w,b)}{\\partial b}  = \\frac{1}{m} \\sum\\limits_{i = 0}^{m-1} (f_{w,b}(x^{(i)}) - y^{(i)})\n",
    "$$\n",
    "$$\n",
    "\\frac{\\partial J(w,b)}{\\partial w}  = \\frac{1}{m} \\sum\\limits_{i = 0}^{m-1} (f_{w,b}(x^{(i)}) -y^{(i)})x^{(i)} \n",
    "$$\n"
   ]
  },
  {
   "cell_type": "markdown",
   "id": "59d81396",
   "metadata": {},
   "source": [
    "$$\\begin{align*}& \\text{repeat until convergence:} \\; \\lbrace \\newline \\; & \\phantom {0000} b := b -  \\alpha \\frac{\\partial J(w,b)}{\\partial b} \\newline       \\; & \\phantom {0000} w := w -  \\alpha \\frac{\\partial J(w,b)}{\\partial w} \\tag{1}  \\; & \n",
    "\\newline & \\rbrace\\end{align*}$$"
   ]
  },
  {
   "cell_type": "code",
   "execution_count": null,
   "id": "52d13497",
   "metadata": {},
   "outputs": [],
   "source": [
    "def model(X, y, max_itr = 1000, convergence_threshold = 0.0001):\n",
    "    start = time.time()\n",
    "    \n",
    "    n = X.shape[1]\n",
    "    W = np.random.rand(n, 1)\n",
    "    b = 0\n",
    "    alpha = 0.01\n",
    "    cost_history = np.zeros(max_itr)\n",
    "    itr = 0\n",
    "    \n",
    "    for i in range(max_itr):\n",
    "        W, b, error = gradient_descent(X, y, W, b, alpha)\n",
    "        cost_history[i] = np.mean(error**2)\n",
    "        itr += 1\n",
    "        \n",
    "        if (i + 1) % 20 == 0:\n",
    "            print(f\"Cost Function on Iteration {i + 1} = {cost_history[i]}\")\n",
    "            \n",
    "        if i > 0 and cost_history[i - 1] - cost_history[i] < convergence_threshold:\n",
    "            break\n",
    "            \n",
    "    end = time.time()\n",
    "\n",
    "    return W, b, cost_history, itr, end - start"
   ]
  },
  {
   "cell_type": "markdown",
   "id": "a9544140",
   "metadata": {},
   "source": [
    "# Use Model"
   ]
  },
  {
   "cell_type": "code",
   "execution_count": null,
   "id": "b3834bcf",
   "metadata": {},
   "outputs": [],
   "source": [
    "W, b, cost_history, itr, ex_time = model(X, y, 400)"
   ]
  },
  {
   "cell_type": "markdown",
   "id": "1f2ba24e",
   "metadata": {},
   "source": [
    "# Metrics"
   ]
  },
  {
   "cell_type": "code",
   "execution_count": null,
   "id": "f5eba6cc",
   "metadata": {},
   "outputs": [],
   "source": [
    "y_pred = predict(W, x_test, b)"
   ]
  },
  {
   "cell_type": "code",
   "execution_count": null,
   "id": "19f39126",
   "metadata": {},
   "outputs": [],
   "source": [
    "print('R^2:',metrics.r2_score(y_test, y_pred))\n",
    "print('MAE:',metrics.mean_absolute_error(y_test, y_pred))\n",
    "print('MSE:',metrics.mean_squared_error(y_test, y_pred))\n",
    "print('RMSE:',np.sqrt(metrics.mean_squared_error(y_test, y_pred)))"
   ]
  },
  {
   "cell_type": "code",
   "execution_count": null,
   "id": "98cd32d0",
   "metadata": {},
   "outputs": [],
   "source": [
    "y_pred = predict(W, X, b)"
   ]
  },
  {
   "cell_type": "code",
   "execution_count": null,
   "id": "8228c66e",
   "metadata": {},
   "outputs": [],
   "source": [
    "print('R^2:',metrics.r2_score(y, y_pred))\n",
    "print('MAE:',metrics.mean_absolute_error(y, y_pred))\n",
    "print('MSE:',metrics.mean_squared_error(y, y_pred))\n",
    "print('RMSE:',np.sqrt(metrics.mean_squared_error(y, y_pred)))"
   ]
  },
  {
   "cell_type": "markdown",
   "id": "39dfdf3f",
   "metadata": {},
   "source": [
    "# Plot"
   ]
  },
  {
   "cell_type": "code",
   "execution_count": null,
   "id": "b0a647f6",
   "metadata": {},
   "outputs": [],
   "source": [
    "plt.plot(range(1, len(cost_history) + 1), cost_history, color='purple')\n",
    "plt.xlabel('Number of iterations')\n",
    "plt.ylabel('Cost J')\n",
    "plt.title('Gradient Descent: Cost over Iterations')\n",
    "plt.show()"
   ]
  },
  {
   "cell_type": "markdown",
   "id": "ba9f3fae",
   "metadata": {},
   "source": [
    "# Result"
   ]
  },
  {
   "cell_type": "code",
   "execution_count": null,
   "id": "ce45272e",
   "metadata": {},
   "outputs": [],
   "source": [
    "print(\"PRICE =\"\n",
    "      f\"\\n{W[0][0]} * {X_df.columns[0]} +\", \n",
    "      f\"\\n{W[1][0]} * {X_df.columns[1]} +\",\n",
    "      f\"\\n{W[2][0]} * {X_df.columns[2]} +\",\n",
    "      f\"\\n{W[3][0]} * {X_df.columns[3]} +\",\n",
    "      f\"\\n{W[4][0]} * {X_df.columns[4]} +\",\n",
    "      f\"\\n{W[5][0]} * {X_df.columns[5]} +\",\n",
    "      f\"\\n{b}\")"
   ]
  },
  {
   "cell_type": "code",
   "execution_count": null,
   "id": "7503913d",
   "metadata": {},
   "outputs": [],
   "source": [
    "print(f\"Training Time: = {ex_time}s\")"
   ]
  },
  {
   "cell_type": "code",
   "execution_count": null,
   "id": "a1c2c5da",
   "metadata": {},
   "outputs": [],
   "source": [
    "print(\"Logs\", f\"MSE = {metrics.mean_squared_error(y, y_pred)}\",\n",
    "              f\"RMSE = {np.sqrt(metrics.mean_squared_error(y, y_pred))}\",\n",
    "              f\"MAE = {metrics.mean_absolute_error(y, y_pred)}\",\n",
    "              f\"R2 = {metrics.r2_score(y, y_pred)}\", sep = \"\\n\")"
   ]
  }
 ],
 "metadata": {
  "kernelspec": {
   "display_name": "Python 3 (ipykernel)",
   "language": "python",
   "name": "python3"
  },
  "language_info": {
   "codemirror_mode": {
    "name": "ipython",
    "version": 3
   },
   "file_extension": ".py",
   "mimetype": "text/x-python",
   "name": "python",
   "nbconvert_exporter": "python",
   "pygments_lexer": "ipython3",
   "version": "3.11.6"
  }
 },
 "nbformat": 4,
 "nbformat_minor": 5
}
